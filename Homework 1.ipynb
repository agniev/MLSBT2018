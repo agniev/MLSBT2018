{
 "cells": [
  {
   "cell_type": "code",
   "execution_count": 10,
   "metadata": {
    "collapsed": true
   },
   "outputs": [],
   "source": [
    "import pandas as pd\n",
    "\n",
    "from sklearn.neighbors import KNeighborsClassifier\n",
    "from sklearn.tree import DecisionTreeClassifier\n",
    "from sklearn.svm import LinearSVC\n",
    "from sklearn.ensemble import RandomForestClassifier, GradientBoostingClassifier\n",
    "\n",
    "from sklearn.grid_search import GridSearchCV"
   ]
  },
  {
   "cell_type": "code",
   "execution_count": 11,
   "metadata": {
    "collapsed": true
   },
   "outputs": [],
   "source": [
    "bioresponce = pd.read_csv('bioresponse.csv', header=0, sep=',')\n",
    "\n",
    "y = bioresponce.Activity.values\n",
    "x = bioresponce.iloc[:, 1:]"
   ]
  },
  {
   "cell_type": "markdown",
   "metadata": {},
   "source": [
    "# GridSearchCV"
   ]
  },
  {
   "cell_type": "markdown",
   "metadata": {},
   "source": [
    "## KNeighborsClassifier"
   ]
  },
  {
   "cell_type": "code",
   "execution_count": 12,
   "metadata": {},
   "outputs": [
    {
     "name": "stdout",
     "output_type": "stream",
     "text": [
      "{'algorithm': 'auto', 'n_neighbors': 3}\n",
      "0.7494001599573447\n",
      "Wall time: 5min 21s\n"
     ]
    }
   ],
   "source": [
    "%%time\n",
    "tuned_parameters = [{'algorithm': ['auto', 'ball_tree','kd_tree','brute'], 'n_neighbors': [1,2,3,4,5]}]\n",
    "gs = GridSearchCV(KNeighborsClassifier(), tuned_parameters, cv=5, n_jobs=-1)\n",
    "gs.fit(x,y)\n",
    "print(gs.best_params_)\n",
    "print(gs.best_score_)"
   ]
  },
  {
   "cell_type": "markdown",
   "metadata": {},
   "source": [
    "## DecisionTreeClassifier"
   ]
  },
  {
   "cell_type": "code",
   "execution_count": 13,
   "metadata": {},
   "outputs": [
    {
     "name": "stdout",
     "output_type": "stream",
     "text": [
      "{'criterion': 'gini', 'max_depth': 5, 'min_samples_leaf': 2, 'random_state': 64}\n",
      "0.761663556384964\n",
      "Wall time: 1min 1s\n"
     ]
    }
   ],
   "source": [
    "%%time\n",
    "tuned_parameters = [{'criterion': ['entropy','gini'], 'max_depth': [1,2,3,4,5], \n",
    "                     'min_samples_leaf': [1,2,3,4,5], 'random_state': [64]}]\n",
    "gs = GridSearchCV(DecisionTreeClassifier(), tuned_parameters, cv=5, n_jobs=-1)\n",
    "gs.fit(x,y)\n",
    "print(gs.best_params_)\n",
    "print(gs.best_score_)"
   ]
  },
  {
   "cell_type": "markdown",
   "metadata": {},
   "source": [
    "## LinearSVC"
   ]
  },
  {
   "cell_type": "code",
   "execution_count": 14,
   "metadata": {},
   "outputs": [
    {
     "name": "stdout",
     "output_type": "stream",
     "text": [
      "{'C': 1.0, 'tol': 0.1}\n",
      "0.7400693148493735\n",
      "Wall time: 5min 31s\n"
     ]
    }
   ],
   "source": [
    "%%time\n",
    "tuned_parameters = [{'C': [1.0, 2.0, 3.0, 4.0, 5.0, 6.0, 7.0, 8.0, 9.0, 10.0], 'tol': [1e-4, 1e-3, 1e-2, 1e-1]}]\n",
    "gs = GridSearchCV(LinearSVC(), tuned_parameters, cv=5, n_jobs=-1)\n",
    "gs.fit(x,y)\n",
    "print(gs.best_params_)\n",
    "print(gs.best_score_)"
   ]
  },
  {
   "cell_type": "markdown",
   "metadata": {},
   "source": [
    "## RandomForestClassifier"
   ]
  },
  {
   "cell_type": "code",
   "execution_count": 15,
   "metadata": {
    "collapsed": true
   },
   "outputs": [],
   "source": [
    "from scipy.stats import randint as sp_randint"
   ]
  },
  {
   "cell_type": "code",
   "execution_count": 18,
   "metadata": {},
   "outputs": [
    {
     "name": "stdout",
     "output_type": "stream",
     "text": [
      "{'bootstrap': False, 'criterion': 'entropy', 'max_depth': None, 'max_features': 6, 'min_samples_leaf': 1, 'min_samples_split': 5}\n",
      "0.782991202346041\n",
      "Wall time: 16min 42s\n"
     ]
    }
   ],
   "source": [
    "%%time\n",
    "tuned_parameters = [{'max_depth': [3, None], \n",
    "                    'max_features': [1,2,3,4,5,6],\n",
    "                    'min_samples_split': [2,3,4,5,6], \n",
    "                    'min_samples_leaf': [1,2,3,4,5,6],\n",
    "                    'bootstrap': [True, False],\n",
    "                    'criterion': ['gini', 'entropy']}]\n",
    "gs = GridSearchCV(RandomForestClassifier(n_estimators=20), tuned_parameters, cv=5, n_jobs=-1)\n",
    "gs.fit(x,y)\n",
    "print(gs.best_params_)\n",
    "print(gs.best_score_)"
   ]
  },
  {
   "cell_type": "markdown",
   "metadata": {},
   "source": [
    "## GradientBoostingClassifier"
   ]
  },
  {
   "cell_type": "code",
   "execution_count": 20,
   "metadata": {},
   "outputs": [
    {
     "name": "stdout",
     "output_type": "stream",
     "text": [
      "{'learning_rate': 0.2, 'max_depth': 4, 'n_estimators': 30}\n",
      "0.7885897094108237\n",
      "Wall time: 9min 5s\n"
     ]
    }
   ],
   "source": [
    "%%time\n",
    "tuned_parameters = [{'n_estimators': [10, 20, 30], 'learning_rate': [0.05,0.2,0.15],\n",
    "                     'max_depth':[1,2,3,4,5]}]\n",
    "gs = GridSearchCV(GradientBoostingClassifier(), tuned_parameters, cv=5, n_jobs=-1)\n",
    "gs.fit(x,y)\n",
    "print(gs.best_params_)\n",
    "print(gs.best_score_)"
   ]
  },
  {
   "cell_type": "markdown",
   "metadata": {},
   "source": [
    "# RandomizedSearchCV"
   ]
  },
  {
   "cell_type": "code",
   "execution_count": 21,
   "metadata": {
    "collapsed": true
   },
   "outputs": [],
   "source": [
    "from sklearn.model_selection import RandomizedSearchCV"
   ]
  },
  {
   "cell_type": "code",
   "execution_count": 23,
   "metadata": {},
   "outputs": [
    {
     "name": "stdout",
     "output_type": "stream",
     "text": [
      "{'bootstrap': True, 'criterion': 'entropy', 'max_depth': None, 'max_features': 4, 'min_samples_leaf': 3, 'min_samples_split': 3}\n",
      "0.736870167955\n",
      "Wall time: 11.5 s\n"
     ]
    }
   ],
   "source": [
    "%%time\n",
    "tuned_parameters = {\"max_depth\": [3, None], \n",
    "                    \"max_features\": sp_randint(1, 6),\n",
    "                    \"min_samples_split\": sp_randint(2, 6), \n",
    "                    \"min_samples_leaf\": sp_randint(1, 6),\n",
    "                    \"bootstrap\": [True, False],\n",
    "                    \"criterion\": [\"gini\", \"entropy\"]}\n",
    "n_iter_search = 20\n",
    "rs = RandomizedSearchCV(RandomForestClassifier(n_estimators=20), \n",
    "                                   param_distributions=tuned_parameters, n_iter=n_iter_search)\n",
    "rs.fit(x, y)\n",
    "print(rs.best_params_)\n",
    "print(rs.best_score_)"
   ]
  },
  {
   "cell_type": "code",
   "execution_count": null,
   "metadata": {
    "collapsed": true
   },
   "outputs": [],
   "source": [
    "#функция RandomizedSearchCV позволяет перебрать заданное число случайных наборов параметров (n_iter_search)\n",
    "#из заданного множества набора параметров (tuned_parameters)"
   ]
  }
 ],
 "metadata": {
  "kernelspec": {
   "display_name": "Python 3",
   "language": "python",
   "name": "python3"
  },
  "language_info": {
   "codemirror_mode": {
    "name": "ipython",
    "version": 3
   },
   "file_extension": ".py",
   "mimetype": "text/x-python",
   "name": "python",
   "nbconvert_exporter": "python",
   "pygments_lexer": "ipython3",
   "version": "3.6.3"
  }
 },
 "nbformat": 4,
 "nbformat_minor": 2
}
